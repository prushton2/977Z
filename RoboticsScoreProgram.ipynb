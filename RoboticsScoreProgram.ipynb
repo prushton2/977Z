{
  "nbformat": 4,
  "nbformat_minor": 0,
  "metadata": {
    "colab": {
      "name": "RoboticsScoreProgram.ipynb",
      "provenance": [],
      "collapsed_sections": [],
      "toc_visible": true,
      "include_colab_link": true
    },
    "kernelspec": {
      "name": "python3",
      "display_name": "Python 3"
    }
  },
  "cells": [
    {
      "cell_type": "markdown",
      "metadata": {
        "id": "view-in-github",
        "colab_type": "text"
      },
      "source": [
        "<a href=\"https://colab.research.google.com/github/prushton2/977Z/blob/master/RoboticsScoreProgram.ipynb\" target=\"_parent\"><img src=\"https://colab.research.google.com/assets/colab-badge.svg\" alt=\"Open In Colab\"/></a>"
      ]
    },
    {
      "cell_type": "markdown",
      "metadata": {
        "id": "XnlfWGUe15Hk",
        "colab_type": "text"
      },
      "source": [
        "# Mount Google Drive\n"
      ]
    },
    {
      "cell_type": "code",
      "metadata": {
        "id": "QtKs3yP_eSxa",
        "colab_type": "code",
        "outputId": "9315f986-8dbe-4794-b676-5009e92e3c3a",
        "colab": {
          "base_uri": "https://localhost:8080/",
          "height": 34
        }
      },
      "source": [
        "from google.colab import drive\n",
        "drive.mount('/content/drive', force_remount=False)"
      ],
      "execution_count": 255,
      "outputs": [
        {
          "output_type": "stream",
          "text": [
            "Drive already mounted at /content/drive; to attempt to forcibly remount, call drive.mount(\"/content/drive\", force_remount=True).\n"
          ],
          "name": "stdout"
        }
      ]
    },
    {
      "cell_type": "markdown",
      "metadata": {
        "id": "vwKM16pJaJ8j",
        "colab_type": "text"
      },
      "source": [
        "# Class definitions"
      ]
    },
    {
      "cell_type": "markdown",
      "metadata": {
        "id": "PXJYezb31zXG",
        "colab_type": "text"
      },
      "source": [
        "## Json manager class"
      ]
    },
    {
      "cell_type": "code",
      "metadata": {
        "id": "52zP3yhEZc7q",
        "colab_type": "code",
        "colab": {}
      },
      "source": [
        "import matplotlib.pyplot as plt\n",
        "import csv\n",
        "import json\n",
        "from termcolor import colored, cprint \n",
        "import time \n",
        "\n",
        "null = None #I can't be bothered to remember null is None in python\n",
        "true = True\n",
        "false = False\n",
        "\n",
        "def empty(): #Exists to do nothing for the sake of blank constructors or unfinished methods\n",
        "  return None;\n",
        "\n",
        "class JsonManager:\n",
        "  def __init__(self, path, fType): # fType should be 'score', 'comp', or 'team' depending on which json file is being opened\n",
        "    self.path = path\n",
        "    self.fType = fType\n",
        "  def load(self):\n",
        "    #opens json file and returns data\n",
        "    with open(self.path, mode=\"r\") as theFile:\n",
        "      return json.load(theFile) \n",
        "      \n",
        "  def save(self, data):\n",
        "    #opens json file and saves data\n",
        "    with open(self.path, mode=\"w\") as theFile:\n",
        "      json.dump(data, theFile)\n",
        "\n",
        "  def addData(self, key, value, function): #Adds data to a json key, but abstracted. \n",
        "    jsonFile = self.load()#JsonManager.open()\n",
        "\n",
        "    if(function == 'set'):\n",
        "      exec(\"jsonFile\"+str(key)+\" = \"+str(value))\n",
        "    elif(function == 'append'):\n",
        "      exec(\"jsonFile\"+str(key)+\".append(\"+str(value)+\")\")\n",
        "    else:\n",
        "      raise ValueError(\"The function parameter must be 'set' or 'append', not\", function)\n",
        "    self.save(jsonFile)\n",
        "\n",
        "  "
      ],
      "execution_count": 0,
      "outputs": []
    },
    {
      "cell_type": "markdown",
      "metadata": {
        "id": "fd-oma4N1zOd",
        "colab_type": "text"
      },
      "source": [
        "## Competition Manager"
      ]
    },
    {
      "cell_type": "code",
      "metadata": {
        "id": "lcBFQR0oZ0Uz",
        "colab_type": "code",
        "colab": {}
      },
      "source": [
        "class Comp: #This is used as a datatype to hold the data for a competition\n",
        "  def __init__(self, id, name, date, path):\n",
        "    self.id = id;\n",
        "    self.name = name;\n",
        "    self.date = date;\n",
        "    self.path = path;\n",
        "\n",
        "class AllComps:\n",
        "  def __init__(self, compList):\n",
        "    self.compList = compList;\n",
        "  def getCompFromId(self, id):\n",
        "    for i in self.compList:\n",
        "      if(i.id == id):\n",
        "        return i"
      ],
      "execution_count": 0,
      "outputs": []
    },
    {
      "cell_type": "markdown",
      "metadata": {
        "id": "7OOAGRfsKBHf",
        "colab_type": "text"
      },
      "source": [
        "## Compiler"
      ]
    },
    {
      "cell_type": "code",
      "metadata": {
        "id": "C267r9lcKA0I",
        "colab_type": "code",
        "colab": {}
      },
      "source": [
        "class Compiler:\n",
        "  def __init__(self, comps):\n",
        "    self.comps = comps;\n",
        "\n",
        "  def setCompIDs(self, comps):\n",
        "    self.comps = comps\n",
        "  \n",
        "  def compileComps(self): # Will compile the csv data into the jsons.\n",
        "    for thisComp in self.comps:\n",
        "      compFile.addData('['+str(thisComp.id)+']', {\"Matches\":[],\"Skills\":[]}, 'set')\n",
        "\n",
        "      with open(thisComp.path, mode='r') as thisFile:\n",
        "        reader = csv.DictReader(thisFile)\n",
        "        line_count=0\n",
        "        for row in reader:\n",
        "          print(\"Adding match\", row[\"Match\"], \"of comp\", thisComp.name)\n",
        "          if(int(row[\"Red Score\"]) > int(row[\"Blue Score\"])):\n",
        "            winner = 'Red'\n",
        "          elif(int(row[\"Blue Score\"]) > int(row[\"Red Score\"])):\n",
        "            winner = 'Blue'\n",
        "          else:\n",
        "            winner = null\n",
        "          thisMatch = [\n",
        "            row[\"Match\"],\n",
        "            thisComp.id, \n",
        "            [int(row[\"Red Score\"]), int(row[\"Blue Score\"])],\n",
        "            [row[\"Red Team (1)\"], row[\"Red Team (2)\"]], \n",
        "            [row[\"Blue Team (1)\"], row[\"Blue Team (2)\"]],\n",
        "            winner\n",
        "          ]\n",
        "\n",
        "          compFile.addData('[\"'+str(thisComp.id)+'\"][\"Matches\"]', thisMatch, 'append')\n",
        "  \n",
        "  def compileTeams(self):\n",
        "    json = compFile.load()\n",
        "    for i in json:\n",
        "      for j in json[i][\"Matches\"]:\n",
        "        for k in j[3]:\n",
        "          try:\n",
        "            teamFile.addData(\"['\"+k+\"']['Matches']\", j, 'append')\n",
        "            print(\"Added\", j, \"to team\", k)\n",
        "          except:\n",
        "            teamFile.addData(\"['\"+k+\"']\", {\"Matches\":[j],\"Skills\":[]}, 'set')\n",
        "            print(\"Created team\", k, \"with match\", j)\n",
        "        for k in j[4]:\n",
        "          try:\n",
        "            teamFile.addData(\"['\"+k+\"']['Matches']\", j, 'append')\n",
        "            print(\"Added\", j, \"to team\", k)\n",
        "          except:\n",
        "            teamFile.addData(\"['\"+k+\"']\", {\"Matches\":[j],\"Skills\":[]}, 'set')\n",
        "            print(\"Created team\", k, \"with match\", j)\n",
        "\n",
        "  def compileScores(self):\n",
        "    scores = scoreFile.load();\n",
        "    teams = teamFile.load();\n",
        "    for team in teams:\n",
        "      scoreFile.addData(\"['\"+team+\"']\", [0], 'set')\n",
        "      print(\"Created a record for team\", team, \"with 0 points\")\n",
        "      for match in teams[team][\"Matches\"]:\n",
        "        scores = scoreFile.load();\n",
        "        if(match[5] == 'Red'): #Create the number to add/subtract to the players score\n",
        "          delta = ((int(match[2][0]) + int(match[2][1])) / int(match[2][0]))*100\n",
        "        if(match[5] == 'Blue'):\n",
        "          delta = ((int(match[2][0]) + int(match[2][1])) / int(match[2][1]))*100\n",
        "        if(match[5] == null):\n",
        "          delta = 0\n",
        "        \n",
        "        if(not(MatchHandler.hasWon(team, match))):\n",
        "          delta *= -1;\n",
        "\n",
        "        # print(team)\n",
        "        z = (scores[team][len(scores[team])-1] + delta)\n",
        "        scoreFile.addData('[\"'+team+'\"]', z, 'append')\n",
        "        print(\"Added\", delta, \"points to the record for team\", team)\n",
        "\n",
        "          \n",
        "        \n"
      ],
      "execution_count": 0,
      "outputs": []
    },
    {
      "cell_type": "markdown",
      "metadata": {
        "id": "Ksl-X3m4Tphm",
        "colab_type": "text"
      },
      "source": [
        "## Match Handler"
      ]
    },
    {
      "cell_type": "code",
      "metadata": {
        "id": "TiyR4CJjTrm-",
        "colab_type": "code",
        "colab": {}
      },
      "source": [
        "class MatchHandler:\n",
        "  @staticmethod\n",
        "      \n",
        "  def getColor(team, match):\n",
        "    if(team == match[3][0] or team == match[3][1]):\n",
        "      return \"Red\"\n",
        "    if(team == match[4][0] or team == match[4][1]):\n",
        "      return \"Blue\"\n",
        "\n",
        "  def hasWon(team, match):\n",
        "    if(MatchHandler.getColor(team, match) == match[5]):\n",
        "      return True\n",
        "    else:\n",
        "      return False # set cube stack"
      ],
      "execution_count": 0,
      "outputs": []
    },
    {
      "cell_type": "markdown",
      "metadata": {
        "id": "LafdCIEvMxQz",
        "colab_type": "text"
      },
      "source": [
        "## Team Class"
      ]
    },
    {
      "cell_type": "code",
      "metadata": {
        "id": "6H_uxiwZMxct",
        "colab_type": "code",
        "colab": {}
      },
      "source": [
        "class Team:\n",
        "  def __init__(self, teamName):\n",
        "    self.team = teamName;\n",
        "\n",
        "  def hasCategory(self, category, categories):\n",
        "    return category in categories or \"all\" == categories\n",
        "\n",
        "  def showStats(self, categories):\n",
        "    if(self.hasCategory(\"matches\", categories)):\n",
        "      teams = teamFile.load();\n",
        "      for i in teams[self.team][\"Matches\"]:\n",
        "        print(allComps.getCompFromId(i[1]).name, \"on\", allComps.getCompFromId(i[1]).date, \"   |   \", end=\"\")\n",
        "        \n",
        "        if(MatchHandler.hasWon(self.team, i)):\n",
        "          color='green'\n",
        "        elif(i[5] == null):\n",
        "          color='grey'\n",
        "        else:\n",
        "          color='red'\n",
        "        \n",
        "        print(colored(i[0], color, attrs=['reverse', 'blink']), end='')\n",
        "        print(\"  |  \", end='')\n",
        "\n",
        "        if(i[5] == null):\n",
        "          print(colored(i[3][0]+\", \"+i[3][1]+\" : \"+str(i[2][0])+\" vs \"+str(i[2][1])+\" : \"+i[4][0]+\", \"+i[4][1], 'grey'), end='')\n",
        "\n",
        "        if(i[5] == 'Red'):\n",
        "          print(colored(i[3][0]+\", \"+i[3][1]+\" : \"+str(i[2][0])+\" vs \", 'red'), end='')\n",
        "          print(str(i[2][1])+\" : \"+i[4][0]+\", \"+i[4][1], end='')\n",
        "\n",
        "        if(i[5] == 'Blue'):\n",
        "          print(i[3][0]+\", \"+i[3][1]+\" : \"+str(i[2][0]), end='')\n",
        "          print(colored(\" vs \"+str(i[2][1])+\" : \"+i[4][0]+\", \"+i[4][1], 'blue'), end='')\n",
        "\n",
        "\n",
        "\n",
        "        print(\"\")\n",
        "        \n",
        "        \n",
        "          "
      ],
      "execution_count": 0,
      "outputs": []
    },
    {
      "cell_type": "markdown",
      "metadata": {
        "id": "qBiWE21piCOF",
        "colab_type": "text"
      },
      "source": [
        "## Score Class"
      ]
    },
    {
      "cell_type": "code",
      "metadata": {
        "id": "B9Zzkt35iCnk",
        "colab_type": "code",
        "colab": {}
      },
      "source": [
        "class Score:\n",
        "  def __init__(self, teams):\n",
        "    self.teams = teams;\n",
        "  \n",
        "  def rankTeams():\n",
        "    empty()\n"
      ],
      "execution_count": 0,
      "outputs": []
    },
    {
      "cell_type": "markdown",
      "metadata": {
        "id": "9b17lzILBItj",
        "colab_type": "text"
      },
      "source": [
        "# Instantiations"
      ]
    },
    {
      "cell_type": "code",
      "metadata": {
        "id": "9YLj2OFjBLmC",
        "colab_type": "code",
        "colab": {}
      },
      "source": [
        "localpath = \"/content/drive/My Drive/RoboticsScoreProgram/Competitions\"\n",
        "compList = [\n",
        "            Comp(0.0,  \"Hartford\",                        \"10/19/19\", localpath+\"/VRC_10 19 19_Hartford.csv\"),\n",
        "            Comp(1.0,  \"Quinsigamond Community College\",  \"11/02/19\", localpath+\"/VRC_11 02 19_Madison.csv\"),\n",
        "            Comp(2.0,  \"Madison\",                         \"11/02/19\", localpath+\"/VRC_11 02 19_QCC.csv\"),\n",
        "            Comp(3.0,  \"Framingham\",                      \"11/09/19\", localpath+\"/VRC_11 09 19_Framingham.csv\"),\n",
        "            Comp(4.0,  \"Danbury\",                         \"11/16/19\", localpath+\"/VRC_11 16 19_Monroe.csv\"),\n",
        "            Comp(5.0,  \"North Andover\",                   \"11/23/19\", localpath+\"/VRC_11 23 19_NorthAndover.csv\"),\n",
        "            Comp(6.0,  \"Hopkinton\",                       \"12/07/19\", localpath+\"/VRC_12 07 19_Hopkinton.csv\"),\n",
        "            Comp(7.0,  \"CTEEA Masuk\",                     \"12/07/19\", localpath+\"/VRC_12 07 19_Masuk.csv\"),\n",
        "            Comp(8.0,  \"Quinsigamond Community College\",  \"12/21/19\", localpath+\"/VRC_12 21 19_QCC.csv\"),\n",
        "            Comp(9.0,  \"CTEEA Bolton CT\",                 \"01/04/20\", localpath+\"/VRC_01 04 20_CTEEABolton.csv\"),\n",
        "            Comp(10.0, \"Quinsigamond Community College\",  \"01/04/20\", localpath+\"/VRC_01 04 20_QCC.csv\")\n",
        "]\n",
        "\n",
        "allComps = AllComps(compList)\n",
        "compiler = Compiler(compList)\n",
        "\n",
        "compFile = JsonManager(\"/content/drive/My Drive/RoboticsScoreProgram/Json/Comps.json\", 'comp')\n",
        "teamFile = JsonManager(\"/content/drive/My Drive/RoboticsScoreProgram/Json/Teams.json\", 'team')\n",
        "scoreFile = JsonManager(\"/content/drive/My Drive/RoboticsScoreProgram/Json/Scores.json\", 'score')"
      ],
      "execution_count": 0,
      "outputs": []
    },
    {
      "cell_type": "markdown",
      "metadata": {
        "id": "sTTilc3b6rEV",
        "colab_type": "text"
      },
      "source": [
        "# Compiling\n",
        "Compiles the CSV files into the JSON files"
      ]
    },
    {
      "cell_type": "code",
      "metadata": {
        "id": "oTQ-yNk86s_D",
        "colab_type": "code",
        "colab": {}
      },
      "source": [
        "if(false):\n",
        "  startTime = time.time()\n",
        "  compFile.save({})\n",
        "  teamFile.save({})\n",
        "  scoreFile.save({})\n",
        "\n",
        "  compiler.compileComps()\n",
        "  compiler.compileTeams()\n",
        "  compiler.compileScores()\n",
        "  print(\"Operation took\", time.time()-startTime,\"seconds\")\n"
      ],
      "execution_count": 0,
      "outputs": []
    },
    {
      "cell_type": "markdown",
      "metadata": {
        "id": "OyBY1OhDaWX8",
        "colab_type": "text"
      },
      "source": [
        "# Debug"
      ]
    },
    {
      "cell_type": "code",
      "metadata": {
        "id": "YZxVR8tiaXck",
        "colab_type": "code",
        "outputId": "810f536e-db08-478d-e9e9-695c73776129",
        "colab": {
          "base_uri": "https://localhost:8080/",
          "height": 34
        }
      },
      "source": [
        "print(scores[\"1898A\"][len(scores[\"1898A\"])-1])"
      ],
      "execution_count": 264,
      "outputs": [
        {
          "output_type": "stream",
          "text": [
            "147.36842105263156\n"
          ],
          "name": "stdout"
        }
      ]
    },
    {
      "cell_type": "markdown",
      "metadata": {
        "id": "yEkpdhPeMoru",
        "colab_type": "text"
      },
      "source": [
        "# Show a team's scores"
      ]
    },
    {
      "cell_type": "code",
      "metadata": {
        "id": "TAqvknl5Mo-E",
        "colab_type": "code",
        "outputId": "edffe1c3-446b-4abb-8a81-7c3d8884acfd",
        "colab": {
          "base_uri": "https://localhost:8080/",
          "height": 781
        }
      },
      "source": [
        "a977Z = Team(\"977Z\")\n",
        "a977Z.showStats(\"all\")"
      ],
      "execution_count": 265,
      "outputs": [
        {
          "output_type": "stream",
          "text": [
            "Framingham on 11/09/19    |   \u001b[5m\u001b[7m\u001b[32mQualifier #8\u001b[0m  |  10102A, 2442E : 4\u001b[34m vs 36 : 977Z, 63857A\u001b[0m\n",
            "Framingham on 11/09/19    |   \u001b[5m\u001b[7m\u001b[31mQualifier #15\u001b[0m  |  977Z, 4716A : 18\u001b[34m vs 24 : 9228B, 4716D\u001b[0m\n",
            "Framingham on 11/09/19    |   \u001b[5m\u001b[7m\u001b[32mQualifier #19\u001b[0m  |  \u001b[31m977Z, 9228A : 15 vs \u001b[0m10 : 3379A, 1898M\n",
            "Framingham on 11/09/19    |   \u001b[5m\u001b[7m\u001b[32mQualifier #28\u001b[0m  |  48425A, 2442A : 23\u001b[34m vs 40 : 977Z, 1898R\u001b[0m\n",
            "Framingham on 11/09/19    |   \u001b[5m\u001b[7m\u001b[32mQualifier #42\u001b[0m  |  785Z, 64345A : 5\u001b[34m vs 12 : 977Z, 785E\u001b[0m\n",
            "Framingham on 11/09/19    |   \u001b[5m\u001b[7m\u001b[32mQualifier #52\u001b[0m  |  \u001b[31m977Z, 63857D : 30 vs \u001b[0m12 : 9421R, 4344X\n",
            "Framingham on 11/09/19    |   \u001b[5m\u001b[7m\u001b[32mQualifier #56\u001b[0m  |  \u001b[31m10102X, 977Z : 12 vs \u001b[0m3 : 9421V, 2713B\n",
            "Framingham on 11/09/19    |   \u001b[5m\u001b[7m\u001b[32mQualifier #66\u001b[0m  |  2713A, 9421X : 27\u001b[34m vs 34 : 977Z, 1898A\u001b[0m\n",
            "Framingham on 11/09/19    |   \u001b[5m\u001b[7m\u001b[32mR16 #3-1\u001b[0m  |  \u001b[31m1898A, 977Z : 39 vs \u001b[0m15 : 10102X, 10102A\n",
            "Framingham on 11/09/19    |   \u001b[5m\u001b[7m\u001b[32mQF #2-1\u001b[0m  |  \u001b[31m1898A, 977Z : 19 vs \u001b[0m3 : 63857E, 9421X\n",
            "Framingham on 11/09/19    |   \u001b[5m\u001b[7m\u001b[31mSF #1-1\u001b[0m  |  \u001b[31m1898R, 375X : 28 vs \u001b[0m20 : 1898A, 977Z\n",
            "North Andover on 11/23/19    |   \u001b[5m\u001b[7m\u001b[32mQualifier #9\u001b[0m  |  \u001b[31m977Z, 4478D : 30 vs \u001b[0m2 : 99928C, 81118P\n",
            "North Andover on 11/23/19    |   \u001b[5m\u001b[7m\u001b[31mQualifier #21\u001b[0m  |  8568B, 977Z : 20\u001b[34m vs 22 : 4716D, 1784X\u001b[0m\n",
            "North Andover on 11/23/19    |   \u001b[5m\u001b[7m\u001b[32mQualifier #37\u001b[0m  |  8568F, 8568G : 4\u001b[34m vs 14 : 2602E, 977Z\u001b[0m\n",
            "North Andover on 11/23/19    |   \u001b[5m\u001b[7m\u001b[31mQualifier #52\u001b[0m  |  \u001b[31m41364A, 785Z : 34 vs \u001b[0m28 : 30906A, 977Z\n",
            "North Andover on 11/23/19    |   \u001b[5m\u001b[7m\u001b[32mQualifier #71\u001b[0m  |  \u001b[31m977Z, 1898R : 69 vs \u001b[0m22 : 99928B, 2602G\n",
            "North Andover on 11/23/19    |   \u001b[5m\u001b[7m\u001b[31mQualifier #84\u001b[0m  |  \u001b[31m63857A, 697D : 35 vs \u001b[0m14 : 99928A, 977Z\n",
            "Hopkinton on 12/07/19    |   \u001b[5m\u001b[7m\u001b[32mQualifier #2\u001b[0m  |  \u001b[31m1898R, 977Z : 47 vs \u001b[0m22 : 2602C, 2442A\n",
            "Hopkinton on 12/07/19    |   \u001b[5m\u001b[7m\u001b[32mQualifier #8\u001b[0m  |  \u001b[31m1898M, 977Z : 28 vs \u001b[0m15 : 2602H, 2602D\n",
            "Hopkinton on 12/07/19    |   \u001b[5m\u001b[7m\u001b[31mQualifier #16\u001b[0m  |  \u001b[31m2442B, 2442F : 39 vs \u001b[0m10 : 977Z, 2602C\n",
            "Hopkinton on 12/07/19    |   \u001b[5m\u001b[7m\u001b[30mQualifier #20\u001b[0m  |  \u001b[30m2602K, 2602M : 18 vs 18 : 1898S, 977Z\u001b[0m\n",
            "Hopkinton on 12/07/19    |   \u001b[5m\u001b[7m\u001b[32mQualifier #24\u001b[0m  |  2602B, 2602G : 9\u001b[34m vs 30 : 2602F, 977Z\u001b[0m\n",
            "Hopkinton on 12/07/19    |   \u001b[5m\u001b[7m\u001b[31mQualifier #28\u001b[0m  |  977Z, 15797A : 11\u001b[34m vs 20 : 2602A, 2602E\u001b[0m\n",
            "Hopkinton on 12/07/19    |   \u001b[5m\u001b[7m\u001b[31mQF #4-1\u001b[0m  |  \u001b[31m2442F, 2442B : 49 vs \u001b[0m38 : 977Z, 1898M\n",
            "Quinsigamond Community College on 12/21/19    |   \u001b[5m\u001b[7m\u001b[32mQualifier #10\u001b[0m  |  \u001b[31m977Z, 10102A : 33 vs \u001b[0m6 : 75735B, 3379A\n",
            "Quinsigamond Community College on 12/21/19    |   \u001b[5m\u001b[7m\u001b[32mQualifier #26\u001b[0m  |  55550W, 58566B : 2\u001b[34m vs 17 : 2442F, 977Z\u001b[0m\n",
            "Quinsigamond Community College on 12/21/19    |   \u001b[5m\u001b[7m\u001b[32mQualifier #40\u001b[0m  |  81118P, 75735C : 10\u001b[34m vs 18 : 977Z, 4344Z\u001b[0m\n",
            "Quinsigamond Community College on 12/21/19    |   \u001b[5m\u001b[7m\u001b[30mQualifier #49\u001b[0m  |  \u001b[30m6181A, 977Z : 13 vs 13 : 49585B, 1615A\u001b[0m\n",
            "Quinsigamond Community College on 12/21/19    |   \u001b[5m\u001b[7m\u001b[31mQualifier #56\u001b[0m  |  977Z, 99928A : 23\u001b[34m vs 24 : 9421R, 6181B\u001b[0m\n",
            "Quinsigamond Community College on 12/21/19    |   \u001b[5m\u001b[7m\u001b[31mQualifier #80\u001b[0m  |  977Z, 2442A : 37\u001b[34m vs 38 : 85127A, 2442B\u001b[0m\n",
            "Quinsigamond Community College on 12/21/19    |   \u001b[5m\u001b[7m\u001b[31mQualifier #86\u001b[0m  |  \u001b[31m9421X, 549C : 64 vs \u001b[0m21 : 785B, 977Z\n",
            "Quinsigamond Community College on 12/21/19    |   \u001b[5m\u001b[7m\u001b[31mR16 #8-1\u001b[0m  |  785E, 977Z : 15\u001b[34m vs 17 : 85127A, 10102A\u001b[0m\n",
            "Quinsigamond Community College on 01/04/20    |   \u001b[5m\u001b[7m\u001b[32mQualifier #10\u001b[0m  |  4344Y, 99928C : 2\u001b[34m vs 26 : 977Z, 5313C\u001b[0m\n",
            "Quinsigamond Community College on 01/04/20    |   \u001b[5m\u001b[7m\u001b[30mQualifier #19\u001b[0m  |  \u001b[30m2606A, 977Z : 8 vs 8 : 5313A, 9421V\u001b[0m\n",
            "Quinsigamond Community College on 01/04/20    |   \u001b[5m\u001b[7m\u001b[31mQualifier #23\u001b[0m  |  977Z, 8884B : 6\u001b[34m vs 8 : 99928E, 99928B\u001b[0m\n",
            "Quinsigamond Community College on 01/04/20    |   \u001b[5m\u001b[7m\u001b[32mQualifier #31\u001b[0m  |  1618A, 55550X : 6\u001b[34m vs 16 : 817F, 977Z\u001b[0m\n",
            "Quinsigamond Community College on 01/04/20    |   \u001b[5m\u001b[7m\u001b[32mQualifier #41\u001b[0m  |  \u001b[31m4716A, 977Z : 16 vs \u001b[0m5 : 4344X, 817B\n",
            "Quinsigamond Community College on 01/04/20    |   \u001b[5m\u001b[7m\u001b[32mQualifier #58\u001b[0m  |  8884A, 85127A : 4\u001b[34m vs 20 : 977Z, 10900Z\u001b[0m\n",
            "Quinsigamond Community College on 01/04/20    |   \u001b[5m\u001b[7m\u001b[32mQualifier #67\u001b[0m  |  \u001b[31m99928D, 977Z : 20 vs \u001b[0m4 : 46024E, 4344Z\n",
            "Quinsigamond Community College on 01/04/20    |   \u001b[5m\u001b[7m\u001b[32mR16 #7-1\u001b[0m  |  \u001b[31m977Z, 1615A : 26 vs \u001b[0m8 : 2606A, 46024E\n",
            "Quinsigamond Community College on 01/04/20    |   \u001b[5m\u001b[7m\u001b[32mQF #4-1\u001b[0m  |  \u001b[31m977Z, 1615A : 18 vs \u001b[0m10 : 2606C, 8828A\n",
            "Quinsigamond Community College on 01/04/20    |   \u001b[5m\u001b[7m\u001b[32mSF #2-1\u001b[0m  |  2606B, 10102X : 14\u001b[34m vs 36 : 977Z, 1615A\u001b[0m\n",
            "Quinsigamond Community College on 01/04/20    |   \u001b[5m\u001b[7m\u001b[31mFinal #1-1\u001b[0m  |  \u001b[31m375X, 81118P : 49 vs \u001b[0m46 : 977Z, 1615A\n"
          ],
          "name": "stdout"
        }
      ]
    },
    {
      "cell_type": "markdown",
      "metadata": {
        "id": "l8SZIzhE2JFx",
        "colab_type": "text"
      },
      "source": [
        "# Structure\n",
        "* Json Files\n",
        "  * Competitions:\n",
        "    * Holds every played match sorted by competition then time\n",
        "  * Scores\n",
        "    * Holds every team's score, and their score over time stored in a list\n",
        "  * Teams\n",
        "    * Stores every team, and every match they have played.\n",
        "\n",
        "# Backlog\n",
        "\n",
        "### Complete\n",
        "* Create Json manager class\n",
        "* Create competition class\n",
        "* Create competition ID system\n",
        "* Read and compile csvs into jsons\n",
        "  * Have a json for comps and a json for teams\n",
        "* Create scoring system\n",
        "\n",
        "### In progress\n",
        "* Print a teams stats nicely\n",
        "* Show scores over time\n",
        "\n",
        "### TODO\n",
        "\n",
        "# Sprint Task List\n",
        "\n",
        "#### Complete\n",
        "\n",
        "#### In progress\n",
        "* Iterate through team matches and print nicely\n",
        "* Create class to hold team name\n",
        "\n",
        "#### TODO\n",
        "\n",
        "# Json format:\n",
        "\n",
        "## Comps:\n",
        "    {\n",
        "      \"CompName\":{\n",
        "        \"Matches\":[\n",
        "          [\n",
        "            \"matchName\",\n",
        "            compId,\n",
        "            [redScore, blueScore],\n",
        "            [red1, red2],\n",
        "            [blue1, blue2],\n",
        "            \"winner\"\n",
        "          ]\n",
        "        ],\n",
        "        \"Skills\": [\n",
        "          [\n",
        "            \"TeamName\",\n",
        "            [autonScore, driverScore]\n",
        "          ]\n",
        "        ]\n",
        "      }\n",
        "    }\n",
        "## Scores:\n",
        "\n",
        "    {\n",
        "      \"teamNumber\": [\n",
        "        score1,\n",
        "        score2,\n",
        "        score3...\n",
        "      ]\n",
        "    }\n",
        "\n",
        "## Teams:\n",
        "\n",
        "    {\n",
        "      \"teamNumber\": {\n",
        "        \"Matches: [\n",
        "          \"referenceToCompsJsonMatchIndex\",\n",
        "        ],\n",
        "        \"Skills\": [\n",
        "\n",
        "        ]\n",
        "      }\n",
        "    }\n",
        "\n",
        "\n"
      ]
    }
  ]
}